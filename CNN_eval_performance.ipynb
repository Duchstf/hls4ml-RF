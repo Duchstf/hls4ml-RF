{
 "cells": [
  {
   "cell_type": "markdown",
   "metadata": {},
   "source": [
    "# Compressing CNN models for HLS synthesis"
   ]
  },
  {
   "cell_type": "markdown",
   "metadata": {},
   "source": [
    "A discription of the original CNN model can be found at https://arxiv.org/abs/1602.04105\n",
    "\n",
    "A more detailed description of the RML2016.10a dataset can be found at http://pubs.gnuradio.org/index.php/grcon/article/view/11\n",
    "\n",
    "The RML2016.10a dataset is used for this work (https://www.deepsig.io/datasets)\n",
    "\n",
    "All models in this work is trained using XSEDE comet cluster: comet.sdsc.xsede.org\n",
    "\n",
    "Compression code and Conv1D is developed by Duc Hoang (minhduc8199@gmail.com)\n",
    "\n"
   ]
  },
  {
   "cell_type": "code",
   "execution_count": 1,
   "metadata": {},
   "outputs": [
    {
     "name": "stderr",
     "output_type": "stream",
     "text": [
      "Using TensorFlow backend.\n"
     ]
    }
   ],
   "source": [
    "# Import all the things we need ---\n",
    "# by setting env variables before Keras import you can set up which backend and which GPU it uses\n",
    "%matplotlib inline\n",
    "from matplotlib.backends.backend_pdf import PdfPages\n",
    "import os,random\n",
    "os.environ[\"KERAS_BACKEND\"] = \"tensorflow\"\n",
    "import numpy as np\n",
    "from keras.utils import np_utils\n",
    "import keras.models as models\n",
    "from keras.layers.core import Reshape,Dense,Dropout,Activation,Flatten\n",
    "from keras.layers.noise import GaussianNoise\n",
    "from keras.layers.convolutional import Convolution2D, MaxPooling1D, ZeroPadding2D, Conv2D, Conv1D\n",
    "from keras.utils import plot_model\n",
    "from keras.regularizers import *\n",
    "from keras.optimizers import adam\n",
    "import matplotlib.pyplot as plt\n",
    "import seaborn as sns\n",
    "import _pickle as cPickle\n",
    "import random, sys, keras\n",
    "import tensorflow as tf\n",
    "import seaborn as sn\n",
    "\n",
    "from sklearn.metrics import roc_curve, auc, roc_auc_score\n",
    "from itertools import cycle\n",
    "\n",
    "#Function for plotting confusion matrix\n",
    "def plot_confusion_matrix(cm, filename, title='Confusion matrix', cmap=plt.cm.Blues, labels=[]):   \n",
    "    with PdfPages(filename) as pdf:\n",
    "        # As many times as you like, create a figure fig and save it:\n",
    "        fig = plt.figure()\n",
    "        plt.imshow(cm, interpolation='nearest', cmap=cmap)\n",
    "        plt.title(title)\n",
    "        plt.colorbar()\n",
    "        tick_marks = np.arange(len(labels))\n",
    "        plt.xticks(tick_marks, labels, rotation=45)\n",
    "        plt.yticks(tick_marks, labels)\n",
    "        plt.tight_layout()\n",
    "        plt.ylabel('True label')\n",
    "        plt.xlabel('Predicted label')\n",
    "        pdf.savefig(fig, dpi = 1000, bbox_inches='tight')"
   ]
  },
  {
   "cell_type": "markdown",
   "metadata": {},
   "source": [
    "## 1 Full CNN models"
   ]
  },
  {
   "cell_type": "markdown",
   "metadata": {},
   "source": [
    "#### 1.2.1 Conv2D model"
   ]
  },
  {
   "cell_type": "code",
   "execution_count": 2,
   "metadata": {
    "collapsed": true
   },
   "outputs": [
    {
     "name": "stdout",
     "output_type": "stream",
     "text": [
      "Total number of samples:  220000\n",
      "number of training examples = 132000\n",
      "number of validation examples = 44000\n",
      "number of test examples = 44000\n",
      "X_train shape: (132000, 2, 128, 1)\n",
      "Y_train shape: (132000, 11)\n",
      "X_val shape: (44000, 2, 128, 1)\n",
      "Y_val shape: (44000, 11)\n",
      "X_test shape: (44000, 2, 128, 1)\n",
      "Y_test shape: (44000, 11)\n",
      "X_train shape:  (132000, 2, 128, 1)\n",
      "Number of classes:  11\n"
     ]
    }
   ],
   "source": [
    "#==================PREPARE DATA=====================\n",
    "\n",
    "# Prepare the training data\n",
    "# You will need to seperately download or generate this file\n",
    "Xd = cPickle.load(open(\"RML2016.10a_dict.pkl\",'rb'), encoding=\"latin1\")\n",
    "snrs,mods = map(lambda j: sorted(list(set(map(lambda x: x[j], Xd.keys())))), [1,0])\n",
    "X = []  \n",
    "lbl = []\n",
    "for mod in mods:\n",
    "    for snr in snrs:\n",
    "        X.append(Xd[(mod,snr)])\n",
    "        for i in range(Xd[(mod,snr)].shape[0]):  lbl.append((mod,snr))\n",
    "X = np.vstack(X)\n",
    "\n",
    "# Partition the data into training, validation, and test sets while keeping SNR and Mod labels handy for each\n",
    "np.random.seed(2016)\n",
    "\n",
    "#Number of samples\n",
    "n_examples = X.shape[0]\n",
    "n_train = int(n_examples * 0.6)\n",
    "n_val = int(n_examples * 0.2)\n",
    "\n",
    "train_idx = np.random.choice(range(0,n_examples), size=n_train, replace=False)\n",
    "val_idx = np.random.choice(list(set(range(0,n_examples))-set(train_idx)), size=n_val, replace=False)\n",
    "test_idx = list(set(range(0,n_examples))-set(train_idx)-set(val_idx))\n",
    "\n",
    "X_train = X[train_idx]\n",
    "X_val = X[val_idx]\n",
    "X_test =  X[test_idx]\n",
    "\n",
    "#Add empty dimension at the end for CONV input layer\n",
    "X_train = X_train.reshape(X_train.shape + (1,))\n",
    "X_val = X_val.reshape(X_val.shape + (1,))\n",
    "X_test = X_test.reshape(X_test.shape + (1,))\n",
    "\n",
    "\n",
    "def to_onehot(yy):\n",
    "    yy1 = np.zeros([len(yy), max(yy)+1])\n",
    "    yy1[np.arange(len(yy)),yy] = 1\n",
    "    return yy1\n",
    "\n",
    "Y_train = to_onehot(list(map(lambda x: mods.index(lbl[x][0]), train_idx)))\n",
    "Y_val = to_onehot(list(map(lambda x: mods.index(lbl[x][0]), val_idx)))\n",
    "Y_test = to_onehot(list(map(lambda x: mods.index(lbl[x][0]), test_idx)))\n",
    "\n",
    "\n",
    "#Print out the shapes for different datasets\n",
    "print (\"Total number of samples: \", X.shape[0])\n",
    "print (\"number of training examples = \" + str(X_train.shape[0]))\n",
    "print (\"number of validation examples = \" + str(X_val.shape[0]))\n",
    "print (\"number of test examples = \" + str(X_test.shape[0]))\n",
    "\n",
    "print (\"X_train shape: \" + str(X_train.shape))\n",
    "print (\"Y_train shape: \" + str(Y_train.shape))\n",
    "\n",
    "print (\"X_val shape: \" + str(X_val.shape))\n",
    "print (\"Y_val shape: \" + str(Y_val.shape))\n",
    "\n",
    "print (\"X_test shape: \" + str(X_test.shape))\n",
    "print (\"Y_test shape: \" + str(Y_test.shape))\n",
    "\n",
    "#Input shape and number of classes\n",
    "in_shape = list(X_train.shape[1:])\n",
    "classes = mods\n",
    "num_classes = len(classes)\n",
    "\n",
    "print(\"X_train shape: \", X_train.shape)\n",
    "print(\"Number of classes: \", num_classes)"
   ]
  },
  {
   "cell_type": "code",
   "execution_count": 3,
   "metadata": {
    "collapsed": true
   },
   "outputs": [
    {
     "name": "stdout",
     "output_type": "stream",
     "text": [
      "Model: \"sequential_1\"\n",
      "_________________________________________________________________\n",
      "Layer (type)                 Output Shape              Param #   \n",
      "=================================================================\n",
      "conv1 (Conv2D)               (None, 1, 121, 64)        1088      \n",
      "_________________________________________________________________\n",
      "dropout_1 (Dropout)          (None, 1, 121, 64)        0         \n",
      "_________________________________________________________________\n",
      "conv2 (Conv2D)               (None, 1, 90, 32)         65568     \n",
      "_________________________________________________________________\n",
      "dropout_2 (Dropout)          (None, 1, 90, 32)         0         \n",
      "_________________________________________________________________\n",
      "flatten_1 (Flatten)          (None, 2880)              0         \n",
      "_________________________________________________________________\n",
      "dense1 (Dense)               (None, 128)               368768    \n",
      "_________________________________________________________________\n",
      "dropout_3 (Dropout)          (None, 128)               0         \n",
      "_________________________________________________________________\n",
      "dense2 (Dense)               (None, 11)                1419      \n",
      "_________________________________________________________________\n",
      "activation_1 (Activation)    (None, 11)                0         \n",
      "=================================================================\n",
      "Total params: 436,843\n",
      "Trainable params: 436,843\n",
      "Non-trainable params: 0\n",
      "_________________________________________________________________\n"
     ]
    }
   ],
   "source": [
    "#Load the model\n",
    "with open('./CNN/model/Conv2D-full.json', 'r') as f:\n",
    "    model = tf.keras.models.model_from_json(f.read())\n",
    "    \n",
    "#Load weights into new model\n",
    "model.load_weights(\"./CNN/model/Conv2D-full.h5\",\"r\")\n",
    "model.compile(loss='categorical_crossentropy', optimizer='adam')\n",
    "model.summary()"
   ]
  },
  {
   "cell_type": "code",
   "execution_count": 4,
   "metadata": {
    "collapsed": true
   },
   "outputs": [
    {
     "name": "stdout",
     "output_type": "stream",
     "text": [
      "Overall Accuracy:  0.08836789900811542\n",
      "Overall Accuracy:  0.08968609865470852\n",
      "Overall Accuracy:  0.09143364403018198\n",
      "Overall Accuracy:  0.09373591707976565\n",
      "Overall Accuracy:  0.1298342541436464\n",
      "Overall Accuracy:  0.24645633287608595\n",
      "Overall Accuracy:  0.37099023709902373\n",
      "Overall Accuracy:  0.5221719457013575\n",
      "Overall Accuracy:  0.6231412639405205\n",
      "Overall Accuracy:  0.7010820559062219\n",
      "Overall Accuracy:  0.7530751708428246\n",
      "Overall Accuracy:  0.7611408199643493\n",
      "Overall Accuracy:  0.7820392890551918\n",
      "Overall Accuracy:  0.7842605156037992\n",
      "Overall Accuracy:  0.8002735978112175\n",
      "Overall Accuracy:  0.7927556166895919\n",
      "Overall Accuracy:  0.7799909461294704\n",
      "Overall Accuracy:  0.7842960288808665\n",
      "Overall Accuracy:  0.7829181494661922\n",
      "Overall Accuracy:  0.7911832946635731\n"
     ]
    }
   ],
   "source": [
    "# Plot confusion matrix\n",
    "acc = {}\n",
    "for snr in snrs:\n",
    "\n",
    "    # extract classes @ SNR\n",
    "    test_SNRs = list(map(lambda x: lbl[x][1], test_idx))\n",
    "    test_X_i = X_test[np.where(np.array(test_SNRs)==snr)]\n",
    "    test_Y_i = Y_test[np.where(np.array(test_SNRs)==snr)] \n",
    "\n",
    "    # estimate classes\n",
    "    test_Y_i_hat = model.predict(test_X_i)\n",
    "    conf = np.zeros([len(classes),len(classes)])\n",
    "    confnorm = np.zeros([len(classes),len(classes)])\n",
    "    for i in range(0,test_X_i.shape[0]):\n",
    "        j = list(test_Y_i[i,:]).index(1)\n",
    "        k = int(np.argmax(test_Y_i_hat[i,:]))\n",
    "        conf[j,k] = conf[j,k] + 1\n",
    "    for i in range(0,len(classes)):\n",
    "        confnorm[i,:] = conf[i,:] / np.sum(conf[i,:])\n",
    "        \n",
    "    #Plot confusion matrix at snr = 18\n",
    "    #if snr == 18:\n",
    "        #plt.figure()\n",
    "        #plot_confusion_matrix(confnorm, labels=classes, title=\"Full Conv2D Confusion Matrix (SNR=%d)\"%(snr), filename = \"Conv2D_full_confmatrix.pdf\")\n",
    "    \n",
    "    cor = np.sum(np.diag(conf))\n",
    "    ncor = np.sum(conf) - cor\n",
    "    print(\"Overall Accuracy: \", cor / (cor+ncor))\n",
    "    acc[snr] = 1.0*cor/(cor+ncor)"
   ]
  },
  {
   "cell_type": "code",
   "execution_count": 5,
   "metadata": {},
   "outputs": [],
   "source": [
    "#Set accuracy to some variable for easy comparison with other models\n",
    "Conv2D_full_acc = acc"
   ]
  },
  {
   "cell_type": "markdown",
   "metadata": {},
   "source": [
    "#### 1.2.2 Conv1D model"
   ]
  },
  {
   "cell_type": "code",
   "execution_count": 6,
   "metadata": {
    "collapsed": true
   },
   "outputs": [
    {
     "name": "stdout",
     "output_type": "stream",
     "text": [
      "Total number of samples:  220000\n",
      "number of training examples = 132000\n",
      "number of validation examples = 44000\n",
      "number of test examples = 44000\n",
      "X_train shape: (132000, 128, 2)\n",
      "Y_train shape: (132000, 11)\n",
      "X_val shape: (44000, 128, 2)\n",
      "Y_val shape: (44000, 11)\n",
      "X_test shape: (44000, 128, 2)\n",
      "Y_test shape: (44000, 11)\n",
      "Number of classes:  11\n"
     ]
    }
   ],
   "source": [
    "#==================PREPARE DATA=====================\n",
    "\n",
    "# Prepare the training data\n",
    "# You will need to seperately download or generate this file\n",
    "Xd = cPickle.load(open(\"RML2016.10a_dict.pkl\",'rb'), encoding=\"latin1\")\n",
    "snrs,mods = map(lambda j: sorted(list(set(map(lambda x: x[j], Xd.keys())))), [1,0])\n",
    "X = []  \n",
    "lbl = []\n",
    "for mod in mods:\n",
    "    for snr in snrs:\n",
    "        X.append(Xd[(mod,snr)])\n",
    "        for i in range(Xd[(mod,snr)].shape[0]):  lbl.append((mod,snr))\n",
    "X = np.vstack(X)\n",
    "\n",
    "# Partition the data into training, validation, and test sets while keeping SNR and Mod labels handy for each\n",
    "np.random.seed(2016)\n",
    "\n",
    "#Number of samples\n",
    "n_examples = X.shape[0]\n",
    "n_train = int(n_examples * 0.6)\n",
    "n_val = int(n_examples * 0.2)\n",
    "\n",
    "train_idx = np.random.choice(range(0,n_examples), size=n_train, replace=False)\n",
    "val_idx = np.random.choice(list(set(range(0,n_examples))-set(train_idx)), size=n_val, replace=False)\n",
    "test_idx = list(set(range(0,n_examples))-set(train_idx)-set(val_idx))\n",
    "\n",
    "X_train = X[train_idx]\n",
    "X_val = X[val_idx]\n",
    "X_test =  X[test_idx]\n",
    "\n",
    "def to_onehot(yy):\n",
    "    yy1 = np.zeros([len(yy), max(yy)+1])\n",
    "    yy1[np.arange(len(yy)),yy] = 1\n",
    "    return yy1\n",
    "\n",
    "Y_train = to_onehot(list(map(lambda x: mods.index(lbl[x][0]), train_idx)))\n",
    "Y_val = to_onehot(list(map(lambda x: mods.index(lbl[x][0]), val_idx)))\n",
    "Y_test = to_onehot(list(map(lambda x: mods.index(lbl[x][0]), test_idx)))\n",
    "\n",
    "#Flip the last two dimensions\n",
    "X_train = X_train.reshape((X_train.shape[0],X_train.shape[2],X_train.shape[1]))\n",
    "X_val = X_val.reshape((X_val.shape[0],X_val.shape[2],X_val.shape[1]))\n",
    "X_test = X_test.reshape((X_test.shape[0],X_test.shape[2],X_test.shape[1]))\n",
    "\n",
    "#Print out the shapes for different datasets\n",
    "print (\"Total number of samples: \", X.shape[0])\n",
    "print (\"number of training examples = \" + str(X_train.shape[0]))\n",
    "print (\"number of validation examples = \" + str(X_val.shape[0]))\n",
    "print (\"number of test examples = \" + str(X_test.shape[0]))\n",
    "\n",
    "print (\"X_train shape: \" + str(X_train.shape))\n",
    "print (\"Y_train shape: \" + str(Y_train.shape))\n",
    "\n",
    "print (\"X_val shape: \" + str(X_val.shape))\n",
    "print (\"Y_val shape: \" + str(Y_val.shape))\n",
    "\n",
    "print (\"X_test shape: \" + str(X_test.shape))\n",
    "print (\"Y_test shape: \" + str(Y_test.shape))\n",
    "\n",
    "#Input shape and number of classes\n",
    "in_shape = list(X_train.shape[1:])\n",
    "classes = mods\n",
    "num_classes = len(classes)\n",
    "\n",
    "print(\"Number of classes: \", num_classes)"
   ]
  },
  {
   "cell_type": "raw",
   "metadata": {},
   "source": [
    "dr = 0.5 # dropout rate (%)\n",
    "\n",
    "model = models.Sequential()\n",
    "model.add(Conv1D(filters=128, kernel_size=3, activation='relu', input_shape= in_shape))\n",
    "model.add(Conv1D(filters=128, kernel_size=3, activation='relu'))\n",
    "model.add(MaxPooling1D(pool_size=2))\n",
    "model.add(Conv1D(filters=64, kernel_size=3, activation='relu'))\n",
    "model.add(Conv1D(filters=64, kernel_size=3, activation='relu'))\n",
    "model.add(Dropout(0.5))\n",
    "model.add(Conv1D(filters=32, kernel_size=3, activation='relu'))\n",
    "model.add(Conv1D(filters=32, kernel_size=3, activation='relu'))\n",
    "model.add(Dropout(0.5))\n",
    "model.add(MaxPooling1D(pool_size=2))\n",
    "model.add(Flatten())\n",
    "model.add(Dense(128, activation='relu'))\n",
    "model.add(Dense(num_classes, activation='softmax'))\n",
    "model.compile(loss='categorical_crossentropy', optimizer='adam', metrics=['accuracy'])\n",
    "model.summary()"
   ]
  },
  {
   "cell_type": "code",
   "execution_count": 7,
   "metadata": {},
   "outputs": [],
   "source": [
    "# Load the model\n",
    "with open('./CNN/model/v3-Conv1D-full.json', 'r') as f:\n",
    "    model = tf.keras.models.model_from_json(f.read())\n",
    "#load weights into new model\n",
    "model.load_weights(\"./CNN/model/v3-Conv1D-full.h5\",\"r\")\n",
    "model.compile(loss='categorical_crossentropy', optimizer='adam')\n",
    "#model.summary()"
   ]
  },
  {
   "cell_type": "code",
   "execution_count": 8,
   "metadata": {
    "collapsed": true
   },
   "outputs": [
    {
     "name": "stdout",
     "output_type": "stream",
     "text": [
      "Overall Accuracy:  0.08881875563570785\n",
      "Overall Accuracy:  0.08834080717488789\n",
      "Overall Accuracy:  0.09587217043941411\n",
      "Overall Accuracy:  0.10049571879224876\n",
      "Overall Accuracy:  0.14502762430939226\n",
      "Overall Accuracy:  0.22085048010973937\n",
      "Overall Accuracy:  0.32821943282194327\n",
      "Overall Accuracy:  0.49276018099547514\n",
      "Overall Accuracy:  0.6119888475836431\n",
      "Overall Accuracy:  0.6943192064923355\n",
      "Overall Accuracy:  0.7444191343963553\n",
      "Overall Accuracy:  0.7896613190730838\n",
      "Overall Accuracy:  0.793732460243218\n",
      "Overall Accuracy:  0.7978290366350068\n",
      "Overall Accuracy:  0.8034655722754218\n",
      "Overall Accuracy:  0.8088033012379643\n",
      "Overall Accuracy:  0.7858759619737438\n",
      "Overall Accuracy:  0.7824909747292419\n",
      "Overall Accuracy:  0.7975978647686833\n",
      "Overall Accuracy:  0.8032482598607888\n"
     ]
    }
   ],
   "source": [
    "# Plot confusion matrix\n",
    "acc = {}\n",
    "for snr in snrs:\n",
    "\n",
    "    # extract classes @ SNR\n",
    "    test_SNRs = list(map(lambda x: lbl[x][1], test_idx))\n",
    "    test_X_i = X_test[np.where(np.array(test_SNRs)==snr)]\n",
    "    test_Y_i = Y_test[np.where(np.array(test_SNRs)==snr)] \n",
    "\n",
    "    # estimate classes\n",
    "    test_Y_i_hat = model.predict(test_X_i)\n",
    "    conf = np.zeros([len(classes),len(classes)])\n",
    "    confnorm = np.zeros([len(classes),len(classes)])\n",
    "    for i in range(0,test_X_i.shape[0]):\n",
    "        j = list(test_Y_i[i,:]).index(1)\n",
    "        k = int(np.argmax(test_Y_i_hat[i,:]))\n",
    "        conf[j,k] = conf[j,k] + 1\n",
    "    for i in range(0,len(classes)):\n",
    "        confnorm[i,:] = conf[i,:] / np.sum(conf[i,:])\n",
    "        \n",
    "    #Plot confusion matrix at snr = 18\n",
    "    #if snr == 18:\n",
    "        #plt.figure()\n",
    "        #plot_confusion_matrix(confnorm, labels=classes, title=\"Full Conv1D Confusion Matrix (SNR=%d)\"%(snr), filename = \"Conv2D_full_confmatrix.pdf\")\n",
    "    \n",
    "    cor = np.sum(np.diag(conf))\n",
    "    ncor = np.sum(conf) - cor\n",
    "    print(\"Overall Accuracy: \", cor / (cor+ncor))\n",
    "    acc[snr] = 1.0*cor/(cor+ncor)"
   ]
  },
  {
   "cell_type": "code",
   "execution_count": 9,
   "metadata": {},
   "outputs": [],
   "source": [
    "#Set accuracy to some variable for easy comparison with other models\n",
    "Conv1D_full_acc = acc"
   ]
  },
  {
   "cell_type": "markdown",
   "metadata": {},
   "source": [
    "-------"
   ]
  },
  {
   "cell_type": "markdown",
   "metadata": {},
   "source": [
    "### 1.2.3 90% pruned model"
   ]
  },
  {
   "cell_type": "code",
   "execution_count": 10,
   "metadata": {},
   "outputs": [],
   "source": [
    "# Load the model\n",
    "with open('./CNN/model/Conv1D-0.9.json', 'r') as f:\n",
    "    model = tf.keras.models.model_from_json(f.read())\n",
    "#load weights into new model\n",
    "model.load_weights(\"./CNN/model/Conv1D-0.9.h5\",\"r\")\n",
    "model.compile(loss='categorical_crossentropy', optimizer='adam')\n",
    "#model.summary()"
   ]
  },
  {
   "cell_type": "code",
   "execution_count": 11,
   "metadata": {
    "collapsed": true
   },
   "outputs": [
    {
     "name": "stdout",
     "output_type": "stream",
     "text": [
      "Overall Accuracy:  0.08972046889089269\n",
      "Overall Accuracy:  0.08654708520179372\n",
      "Overall Accuracy:  0.09498446515756769\n",
      "Overall Accuracy:  0.09553853086976115\n",
      "Overall Accuracy:  0.1289134438305709\n",
      "Overall Accuracy:  0.21810699588477367\n",
      "Overall Accuracy:  0.28498372849837283\n",
      "Overall Accuracy:  0.448868778280543\n",
      "Overall Accuracy:  0.5738847583643123\n",
      "Overall Accuracy:  0.6627592425608656\n",
      "Overall Accuracy:  0.717995444191344\n",
      "Overall Accuracy:  0.7410873440285205\n",
      "Overall Accuracy:  0.7712815715622077\n",
      "Overall Accuracy:  0.7643600180913613\n",
      "Overall Accuracy:  0.7637938896488828\n",
      "Overall Accuracy:  0.7771664374140302\n",
      "Overall Accuracy:  0.7578089633318243\n",
      "Overall Accuracy:  0.759927797833935\n",
      "Overall Accuracy:  0.7513345195729537\n",
      "Overall Accuracy:  0.7781902552204176\n"
     ]
    }
   ],
   "source": [
    "# Plot confusion matrix\n",
    "acc = {}\n",
    "for snr in snrs:\n",
    "\n",
    "    # extract classes @ SNR\n",
    "    test_SNRs = list(map(lambda x: lbl[x][1], test_idx))\n",
    "    test_X_i = X_test[np.where(np.array(test_SNRs)==snr)]\n",
    "    test_Y_i = Y_test[np.where(np.array(test_SNRs)==snr)] \n",
    "\n",
    "    # estimate classes\n",
    "    test_Y_i_hat = model.predict(test_X_i)\n",
    "    conf = np.zeros([len(classes),len(classes)])\n",
    "    confnorm = np.zeros([len(classes),len(classes)])\n",
    "    for i in range(0,test_X_i.shape[0]):\n",
    "        j = list(test_Y_i[i,:]).index(1)\n",
    "        k = int(np.argmax(test_Y_i_hat[i,:]))\n",
    "        conf[j,k] = conf[j,k] + 1\n",
    "    for i in range(0,len(classes)):\n",
    "        confnorm[i,:] = conf[i,:] / np.sum(conf[i,:])\n",
    "        \n",
    "    #Plot confusion matrix at snr = 18\n",
    "    #if snr == 18:\n",
    "        #plt.figure()\n",
    "        #plot_confusion_matrix(confnorm, labels=classes, title=\"Full Conv1D Confusion Matrix (SNR=%d)\"%(snr), filename = \"Conv2D_full_confmatrix.pdf\")\n",
    "    \n",
    "    cor = np.sum(np.diag(conf))\n",
    "    ncor = np.sum(conf) - cor\n",
    "    print(\"Overall Accuracy: \", cor / (cor+ncor))\n",
    "    acc[snr] = 1.0*cor/(cor+ncor)"
   ]
  },
  {
   "cell_type": "code",
   "execution_count": 12,
   "metadata": {},
   "outputs": [],
   "source": [
    "#Set accuracy to some variable for easy comparison with other models\n",
    "Conv1D_90_acc = acc"
   ]
  },
  {
   "cell_type": "markdown",
   "metadata": {},
   "source": [
    "### 1.2.3 95% pruned model"
   ]
  },
  {
   "cell_type": "code",
   "execution_count": 140,
   "metadata": {},
   "outputs": [],
   "source": [
    "# Load the model\n",
    "with open('./CNN/model/Conv1D-0.95v3.json', 'r') as f:\n",
    "    model = tf.keras.models.model_from_json(f.read())\n",
    "#load weights into new model\n",
    "model.load_weights(\"./CNN/model/Conv1D-0.95v3.h5\",\"r\")\n",
    "model.compile(loss='categorical_crossentropy', optimizer='adam')\n",
    "#model.summary()"
   ]
  },
  {
   "cell_type": "code",
   "execution_count": 141,
   "metadata": {
    "collapsed": true
   },
   "outputs": [
    {
     "name": "stdout",
     "output_type": "stream",
     "text": [
      "Overall Accuracy:  0.08611361587015329\n",
      "Overall Accuracy:  0.08654708520179372\n",
      "Overall Accuracy:  0.08699511762094984\n",
      "Overall Accuracy:  0.08517350157728706\n",
      "Overall Accuracy:  0.1072744014732965\n",
      "Overall Accuracy:  0.15820759030635573\n",
      "Overall Accuracy:  0.23477452347745234\n",
      "Overall Accuracy:  0.42036199095022625\n",
      "Overall Accuracy:  0.5487918215613383\n",
      "Overall Accuracy:  0.6442741208295762\n",
      "Overall Accuracy:  0.7120728929384966\n",
      "Overall Accuracy:  0.7415329768270945\n",
      "Overall Accuracy:  0.7586529466791394\n",
      "Overall Accuracy:  0.7607417458163727\n",
      "Overall Accuracy:  0.7678978568171455\n",
      "Overall Accuracy:  0.7734983952315452\n",
      "Overall Accuracy:  0.7419646899049344\n",
      "Overall Accuracy:  0.7490974729241877\n",
      "Overall Accuracy:  0.7540035587188612\n",
      "Overall Accuracy:  0.782830626450116\n"
     ]
    },
    {
     "data": {
      "text/plain": [
       "<Figure size 432x288 with 0 Axes>"
      ]
     },
     "metadata": {},
     "output_type": "display_data"
    },
    {
     "data": {
      "image/png": "[encoded data removed]",
      "text/plain": [
       "<Figure size 432x288 with 2 Axes>"
      ]
     },
     "metadata": {
      "needs_background": "light"
     },
     "output_type": "display_data"
    }
   ],
   "source": [
    "# Plot confusion matrix\n",
    "acc = {}\n",
    "for snr in snrs:\n",
    "\n",
    "    # extract classes @ SNR\n",
    "    test_SNRs = list(map(lambda x: lbl[x][1], test_idx))\n",
    "    test_X_i = X_test[np.where(np.array(test_SNRs)==snr)]\n",
    "    test_Y_i = Y_test[np.where(np.array(test_SNRs)==snr)] \n",
    "\n",
    "    # estimate classes\n",
    "    test_Y_i_hat = model.predict(test_X_i)\n",
    "    conf = np.zeros([len(classes),len(classes)])\n",
    "    confnorm = np.zeros([len(classes),len(classes)])\n",
    "    for i in range(0,test_X_i.shape[0]):\n",
    "        j = list(test_Y_i[i,:]).index(1)\n",
    "        k = int(np.argmax(test_Y_i_hat[i,:]))\n",
    "        conf[j,k] = conf[j,k] + 1\n",
    "    for i in range(0,len(classes)):\n",
    "        confnorm[i,:] = conf[i,:] / np.sum(conf[i,:])\n",
    "        \n",
    "    #Plot confusion matrix at snr = 18\n",
    "    if snr == 18:\n",
    "        plt.figure()\n",
    "        plot_confusion_matrix(confnorm, labels=classes, title=\"Full Conv1D Confusion Matrix (SNR=%d)\"%(snr), filename = \"Conv2D_full_confmatrix.pdf\")\n",
    "    \n",
    "    cor = np.sum(np.diag(conf))\n",
    "    ncor = np.sum(conf) - cor\n",
    "    print(\"Overall Accuracy: \", cor / (cor+ncor))\n",
    "    acc[snr] = 1.0*cor/(cor+ncor)"
   ]
  },
  {
   "cell_type": "code",
   "execution_count": 142,
   "metadata": {},
   "outputs": [],
   "source": [
    "#Set accuracy to some variable for easy comparison with other models\n",
    "Conv1D_95_acc = acc"
   ]
  },
  {
   "cell_type": "code",
   "execution_count": 143,
   "metadata": {
    "collapsed": true
   },
   "outputs": [
    {
     "data": {
      "text/plain": [
       "Text(0.5,1,'CNN2 Classification Accuracy on RadioML 2016.10 Alpha')"
      ]
     },
     "execution_count": 143,
     "metadata": {},
     "output_type": "execute_result"
    },
    {
     "data": {
      "image/png": "[encoded data removed]",
      "text/plain": [
       "<Figure size 432x288 with 1 Axes>"
      ]
     },
     "metadata": {
      "needs_background": "light"
     },
     "output_type": "display_data"
    }
   ],
   "source": [
    "# Plot accuracy curve\n",
    "plt.plot(snrs, list(map(lambda x: Conv1D_95_acc[x], snrs)), \".-\")\n",
    "plt.plot(snrs, list(map(lambda x: Conv1D_90_acc[x], snrs)), \".-\")\n",
    "plt.plot(snrs, list(map(lambda x: Conv1D_full_acc[x], snrs)), \"*-\")\n",
    "plt.plot(snrs, list(map(lambda x: Conv2D_full_acc[x], snrs)), \"+--\")\n",
    "plt.xlabel(\"Signal to Noise Ratio (dB)\")\n",
    "plt.ylabel(\"Classification Accuracy\")\n",
    "plt.title(\"CNN2 Classification Accuracy on RadioML 2016.10 Alpha\")"
   ]
  },
  {
   "cell_type": "code",
   "execution_count": 266,
   "metadata": {
    "collapsed": true
   },
   "outputs": [
    {
     "data": {
      "image/png": "[encoded data removed]",
      "text/plain": [
       "<Figure size 432x288 with 1 Axes>"
      ]
     },
     "metadata": {
      "needs_background": "light"
     },
     "output_type": "display_data"
    }
   ],
   "source": [
    "with PdfPages(\"All_performance.pdf\") as pdf:\n",
    "    # As many times as you like, create a figure fig and save it:\n",
    "    fig = plt.figure()\n",
    "    \n",
    "    # Plot accuracy curve\n",
    "    plt.plot(snrs, list(map(lambda x: Conv2D_full_acc[x], snrs)),\"+--\", label = \"Full Conv2D\")\n",
    "    plt.plot(snrs, list(map(lambda x: Conv1D_95_acc[x], snrs)), \"*--\", label = \"95% pruned Conv1D\")\n",
    "    plt.plot(snrs, list(map(lambda x: Conv1D_85_acc[x], snrs)), \".-\",label = \"85% pruned Conv1D\")\n",
    "    plt.plot(snrs, list(map(lambda x: Conv1D_full_acc[x], snrs)), \"d-\", label = \"Full Conv1D\")\n",
    "    \n",
    "    plt.legend(loc='lower right')\n",
    "    plt.tight_layout()\n",
    "\n",
    "    plt.xlabel(\"Signal to Noise Ratio (dB)\", )\n",
    "    plt.ylabel(\"Classification Accuracy\")\n",
    "    plt.title(\"Classification Accuracy on RadioML 2016.10 Alpha\")\n",
    "    pdf.savefig(fig, dpi = 1000, bbox_inches='tight')"
   ]
  },
  {
   "cell_type": "markdown",
   "metadata": {},
   "source": [
    "----"
   ]
  },
  {
   "cell_type": "markdown",
   "metadata": {},
   "source": [
    "### 1.2.3 85% pruned model"
   ]
  },
  {
   "cell_type": "code",
   "execution_count": 144,
   "metadata": {
    "collapsed": true
   },
   "outputs": [
    {
     "name": "stdout",
     "output_type": "stream",
     "text": [
      "Overall Accuracy:  0.08791704238052299\n",
      "Overall Accuracy:  0.08923766816143498\n",
      "Overall Accuracy:  0.09409675987572126\n",
      "Overall Accuracy:  0.09824245155475439\n",
      "Overall Accuracy:  0.13674033149171272\n",
      "Overall Accuracy:  0.21719250114311842\n",
      "Overall Accuracy:  0.30404463040446306\n",
      "Overall Accuracy:  0.4656108597285068\n",
      "Overall Accuracy:  0.595724907063197\n",
      "Overall Accuracy:  0.6920649233543733\n",
      "Overall Accuracy:  0.7521640091116173\n",
      "Overall Accuracy:  0.7709447415329769\n",
      "Overall Accuracy:  0.7899906454630495\n",
      "Overall Accuracy:  0.7942107643600181\n",
      "Overall Accuracy:  0.7902416780665754\n",
      "Overall Accuracy:  0.8037597432370472\n",
      "Overall Accuracy:  0.7786328655500226\n",
      "Overall Accuracy:  0.7757220216606499\n",
      "Overall Accuracy:  0.7855871886120996\n",
      "Overall Accuracy:  0.8\n"
     ]
    }
   ],
   "source": [
    "# Load the model\n",
    "with open('./CNN/model/Conv1D-0.9.json', 'r') as f:\n",
    "    model = tf.keras.models.model_from_json(f.read())\n",
    "#load weights into new model\n",
    "model.load_weights(\"./CNN/model/Conv1D-0.85v1.h5\",\"r\")\n",
    "model.compile(loss='categorical_crossentropy', optimizer='adam')\n",
    "#model.summary()\n",
    "\n",
    "# Plot confusion matrix\n",
    "acc = {}\n",
    "for snr in snrs:\n",
    "\n",
    "    # extract classes @ SNR\n",
    "    test_SNRs = list(map(lambda x: lbl[x][1], test_idx))\n",
    "    test_X_i = X_test[np.where(np.array(test_SNRs)==snr)]\n",
    "    test_Y_i = Y_test[np.where(np.array(test_SNRs)==snr)] \n",
    "\n",
    "    # estimate classes\n",
    "    test_Y_i_hat = model.predict(test_X_i)\n",
    "    conf = np.zeros([len(classes),len(classes)])\n",
    "    confnorm = np.zeros([len(classes),len(classes)])\n",
    "    for i in range(0,test_X_i.shape[0]):\n",
    "        j = list(test_Y_i[i,:]).index(1)\n",
    "        k = int(np.argmax(test_Y_i_hat[i,:]))\n",
    "        conf[j,k] = conf[j,k] + 1\n",
    "    for i in range(0,len(classes)):\n",
    "        confnorm[i,:] = conf[i,:] / np.sum(conf[i,:])\n",
    "        \n",
    "    #Plot confusion matrix at snr = 18\n",
    "    #if snr == 18:\n",
    "        #plt.figure()\n",
    "        #plot_confusion_matrix(confnorm, labels=classes, title=\"Full Conv1D Confusion Matrix (SNR=%d)\"%(snr), filename = \"Conv2D_full_confmatrix.pdf\")\n",
    "    \n",
    "    cor = np.sum(np.diag(conf))\n",
    "    ncor = np.sum(conf) - cor\n",
    "    print(\"Overall Accuracy: \", cor / (cor+ncor))\n",
    "    acc[snr] = 1.0*cor/(cor+ncor)"
   ]
  },
  {
   "cell_type": "code",
   "execution_count": 145,
   "metadata": {},
   "outputs": [],
   "source": [
    "#Set accuracy to some variable for easy comparison with other models\n",
    "Conv1D_85_acc = acc"
   ]
  },
  {
   "cell_type": "code",
   "execution_count": 146,
   "metadata": {
    "scrolled": true
   },
   "outputs": [
    {
     "data": {
      "text/plain": [
       "Text(0.5,1,'CNN2 Classification Accuracy on RadioML 2016.10 Alpha')"
      ]
     },
     "execution_count": 146,
     "metadata": {},
     "output_type": "execute_result"
    },
    {
     "data": {
      "image/png": "[encoded data removed]",
      "text/plain": [
       "<Figure size 432x288 with 1 Axes>"
      ]
     },
     "metadata": {
      "needs_background": "light"
     },
     "output_type": "display_data"
    }
   ],
   "source": [
    "# Plot accuracy curve\n",
    "plt.plot(snrs, list(map(lambda x: Conv1D_85_acc[x], snrs)), \".-\",  c = \"forestgreen\")\n",
    "#plt.plot(snrs, list(map(lambda x: Conv1D_90_acc[x], snrs)), \".-\")\n",
    "plt.plot(snrs, list(map(lambda x: Conv1D_full_acc[x], snrs)), \"d-\", c = \"crimson\")\n",
    "plt.plot(snrs, list(map(lambda x: Conv2D_full_acc[x], snrs)), \"+--\", c = \"skyblue\")\n",
    "plt.xlabel(\"Signal to Noise Ratio (dB)\")\n",
    "plt.ylabel(\"Classification Accuracy\")\n",
    "plt.title(\"CNN2 Classification Accuracy on RadioML 2016.10 Alpha\")"
   ]
  },
  {
   "cell_type": "code",
   "execution_count": 147,
   "metadata": {},
   "outputs": [
    {
     "data": {
      "image/png": "[encoded data removed]",
      "text/plain": [
       "<Figure size 432x288 with 1 Axes>"
      ]
     },
     "metadata": {
      "needs_background": "light"
     },
     "output_type": "display_data"
    }
   ],
   "source": [
    "with PdfPages(\"All_performance.pdf\") as pdf:\n",
    "    # As many times as you like, create a figure fig and save it:\n",
    "    fig = plt.figure()\n",
    "    \n",
    "    # Plot accuracy curve\n",
    "    plt.plot(snrs, list(map(lambda x: Conv1D_85_acc[x], snrs)), \".-\",  c = \"forestgreen\", label = \"85% pruned Conv1D\")\n",
    "    plt.plot(snrs, list(map(lambda x: Conv1D_full_acc[x], snrs)), \"d-\", c = \"crimson\", label = \"Full Conv1D\")\n",
    "    plt.plot(snrs, list(map(lambda x: Conv2D_full_acc[x], snrs)), \"+--\", c = \"mediumslateblue\", label = \"Full Conv2D\")\n",
    "    \n",
    "    plt.legend(loc='lower right')\n",
    "    plt.tight_layout()\n",
    "\n",
    "    plt.xlabel(\"Signal to Noise Ratio (dB)\", )\n",
    "    plt.ylabel(\"Classification Accuracy\")\n",
    "    plt.title(\"Classification Accuracy on RadioML 2016.10 Alpha\")\n",
    "    pdf.savefig(fig, dpi = 1000, bbox_inches='tight')"
   ]
  },
  {
   "cell_type": "markdown",
   "metadata": {},
   "source": [
    "### 1.2.4 Size comparison"
   ]
  },
  {
   "cell_type": "code",
   "execution_count": 148,
   "metadata": {},
   "outputs": [
    {
     "name": "stdout",
     "output_type": "stream",
     "text": [
      "Size of the unpruned model before compression: 2.45 Mb\n",
      "Size of the unpruned model after compression: 2.05 Mb\n",
      "Size of the pruned 90 percent model before compression: 0.83 Mb\n",
      "Size of the pruned 90 percent model after compression: 0.16 Mb\n",
      "Size of the pruned 95 percent model before compression: 0.83 Mb\n",
      "Size of the pruned 95 percent model after compression: 0.20 Mb\n"
     ]
    }
   ],
   "source": [
    "import tempfile\n",
    "import zipfile\n",
    "import os\n",
    "\n",
    "keras_file = \"./CNN/model/v3-Conv1D-full.h5\"\n",
    "\n",
    "pruned_keras_file_90 = \"./CNN/model/Conv1D-0.9v2.h5\"\n",
    "\n",
    "pruned_keras_file_95 = \"./CNN/model/Conv1D-0.85v1.h5\"\n",
    "\n",
    "_, zip1 = tempfile.mkstemp('.zip') \n",
    "with zipfile.ZipFile(zip1, 'w', compression=zipfile.ZIP_DEFLATED) as f:\n",
    "  f.write(keras_file)\n",
    "print(\"Size of the unpruned model before compression: %.2f Mb\" % \n",
    "      (os.path.getsize(keras_file) / float(2**20)))\n",
    "print(\"Size of the unpruned model after compression: %.2f Mb\" % \n",
    "      (os.path.getsize(zip1) / float(2**20)))\n",
    "\n",
    "_, zip2 = tempfile.mkstemp('.zip') \n",
    "with zipfile.ZipFile(zip2, 'w', compression=zipfile.ZIP_DEFLATED) as f:\n",
    "  f.write(pruned_keras_file_90)\n",
    "print(\"Size of the pruned 90 percent model before compression: %.2f Mb\" % \n",
    "      (os.path.getsize(pruned_keras_file_90) / float(2**20)))\n",
    "print(\"Size of the pruned 90 percent model after compression: %.2f Mb\" % \n",
    "      (os.path.getsize(zip2) / float(2**20)))\n",
    "\n",
    "_, zip3 = tempfile.mkstemp('.zip') \n",
    "with zipfile.ZipFile(zip3, 'w', compression=zipfile.ZIP_DEFLATED) as f:\n",
    "  f.write(pruned_keras_file_95)\n",
    "print(\"Size of the pruned 95 percent model before compression: %.2f Mb\" % \n",
    "      (os.path.getsize(pruned_keras_file_95) / float(2**20)))\n",
    "print(\"Size of the pruned 95 percent model after compression: %.2f Mb\" % \n",
    "      (os.path.getsize(zip3) / float(2**20)))"
   ]
  },
  {
   "cell_type": "markdown",
   "metadata": {},
   "source": [
    "## 2. Try some qkeras"
   ]
  },
  {
   "cell_type": "code",
   "execution_count": 18,
   "metadata": {},
   "outputs": [],
   "source": [
    "from qkeras import *\n",
    "import copy\n",
    "from keras.models import load_model\n",
    "\n",
    "def load_quantized_model(filepath, custom_objects=None):\n",
    "    if not custom_objects:\n",
    "        custom_objects = {}\n",
    "\n",
    "    # let's make a deep copy to make sure our objects are not shared elsewhere\n",
    "    custom_objects = copy.deepcopy(custom_objects)\n",
    "    \n",
    "    custom_objects[\"QDense\"] = QDense\n",
    "    custom_objects[\"QConv1D\"] = QConv1D\n",
    "    custom_objects[\"QConv2D\"] = QConv2D\n",
    "    custom_objects[\"QDepthwiseConv2D\"] = QDepthwiseConv2D\n",
    "    custom_objects[\"QAveragePooling2D\"] = QAveragePooling2D\n",
    "    custom_objects[\"QActivation\"] = QActivation\n",
    "    custom_objects[\"QBatchNormalization\"] = QBatchNormalization\n",
    "    custom_objects[\"Clip\"] = Clip\n",
    "    custom_objects[\"quantized_bits\"] = quantized_bits\n",
    "    custom_objects[\"bernoulli\"] = bernoulli\n",
    "    custom_objects[\"stochastic_ternary\"] = stochastic_ternary\n",
    "    custom_objects[\"ternary\"] = ternary\n",
    "    custom_objects[\"stochastic_binary\"] = stochastic_binary\n",
    "    custom_objects[\"binary\"] = binary\n",
    "    custom_objects[\"quantized_relu\"] = quantized_relu\n",
    "    custom_objects[\"quantized_ulaw\"] = quantized_ulaw\n",
    "    custom_objects[\"quantized_tanh\"] = quantized_tanh\n",
    "    custom_objects[\"quantized_po2\"] = quantized_po2\n",
    "    custom_objects[\"quantized_relu_po2\"] = quantized_relu_po2\n",
    "    \n",
    "    model = tf.keras.models.load_model(filepath, custom_objects=custom_objects)\n",
    "    \n",
    "    return model"
   ]
  },
  {
   "cell_type": "code",
   "execution_count": 2,
   "metadata": {},
   "outputs": [],
   "source": [
    "from qkeras.utils import load_qmodel"
   ]
  },
  {
   "cell_type": "code",
   "execution_count": 3,
   "metadata": {},
   "outputs": [],
   "source": [
    "model = load_qmodel(\"CNN/model/QConv1D-v1.h5\")"
   ]
  },
  {
   "cell_type": "code",
   "execution_count": 6,
   "metadata": {},
   "outputs": [
    {
     "name": "stdout",
     "output_type": "stream",
     "text": [
      "Overall Accuracy:  0.09107303877366997\n",
      "Overall Accuracy:  0.09013452914798206\n",
      "Overall Accuracy:  0.09720372836218376\n",
      "Overall Accuracy:  0.11041009463722397\n",
      "Overall Accuracy:  0.14226519337016574\n",
      "Overall Accuracy:  0.22359396433470508\n",
      "Overall Accuracy:  0.30962343096234307\n",
      "Overall Accuracy:  0.47058823529411764\n",
      "Overall Accuracy:  0.5896840148698885\n",
      "Overall Accuracy:  0.6708746618575293\n",
      "Overall Accuracy:  0.724373576309795\n",
      "Overall Accuracy:  0.7651515151515151\n",
      "Overall Accuracy:  0.7829747427502338\n",
      "Overall Accuracy:  0.7942107643600181\n",
      "Overall Accuracy:  0.7884176926584587\n",
      "Overall Accuracy:  0.7872535534158643\n",
      "Overall Accuracy:  0.7799909461294704\n",
      "Overall Accuracy:  0.7721119133574007\n",
      "Overall Accuracy:  0.7709074733096085\n",
      "Overall Accuracy:  0.7930394431554524\n"
     ]
    },
    {
     "data": {
      "text/plain": [
       "<Figure size 432x288 with 0 Axes>"
      ]
     },
     "metadata": {},
     "output_type": "display_data"
    },
    {
     "data": {
      "image/png": "[encoded data removed]",
      "text/plain": [
       "<Figure size 432x288 with 2 Axes>"
      ]
     },
     "metadata": {
      "needs_background": "light"
     },
     "output_type": "display_data"
    }
   ],
   "source": [
    "# Plot confusion matrix\n",
    "acc = {}\n",
    "for snr in snrs:\n",
    "\n",
    "    # extract classes @ SNR\n",
    "    test_SNRs = list(map(lambda x: lbl[x][1], test_idx))\n",
    "    test_X_i = X_test[np.where(np.array(test_SNRs)==snr)]\n",
    "    test_Y_i = Y_test[np.where(np.array(test_SNRs)==snr)] \n",
    "\n",
    "    # estimate classes\n",
    "    test_Y_i_hat = model.predict(test_X_i)\n",
    "    conf = np.zeros([len(classes),len(classes)])\n",
    "    confnorm = np.zeros([len(classes),len(classes)])\n",
    "    for i in range(0,test_X_i.shape[0]):\n",
    "        j = list(test_Y_i[i,:]).index(1)\n",
    "        k = int(np.argmax(test_Y_i_hat[i,:]))\n",
    "        conf[j,k] = conf[j,k] + 1\n",
    "    for i in range(0,len(classes)):\n",
    "        confnorm[i,:] = conf[i,:] / np.sum(conf[i,:])\n",
    "        \n",
    "    #Plot confusion matrix at snr = 18\n",
    "    if snr == 18:\n",
    "        plt.figure()\n",
    "        plot_confusion_matrix(confnorm, labels=classes, title=\"Full Conv1D Confusion Matrix (SNR=%d)\"%(snr), filename = \"Conv2D_full_confmatrix.pdf\")\n",
    "    \n",
    "    cor = np.sum(np.diag(conf))\n",
    "    ncor = np.sum(conf) - cor\n",
    "    print(\"Overall Accuracy: \", cor / (cor+ncor))\n",
    "    acc[snr] = 1.0*cor/(cor+ncor)"
   ]
  },
  {
   "cell_type": "code",
   "execution_count": 1,
   "metadata": {},
   "outputs": [
    {
     "name": "stdout",
     "output_type": "stream",
     "text": [
      "\u001b[34mCNN\u001b[m\u001b[m                        X_small.npy\r\n",
      "CNN_eval_performance.ipynb X_small.txt\r\n",
      "README.md                  Y_small.dat\r\n",
      "RML2016.10a_dict.pkl       Y_small.npy\r\n",
      "Test_quantization.ipynb    Y_small.txt\r\n",
      "X_small.dat\r\n"
     ]
    }
   ],
   "source": [
    "!ls"
   ]
  },
  {
   "cell_type": "code",
   "execution_count": 28,
   "metadata": {},
   "outputs": [],
   "source": [
    "model.save_weights(\"cac.h5\")"
   ]
  },
  {
   "cell_type": "code",
   "execution_count": 29,
   "metadata": {},
   "outputs": [
    {
     "name": "stdout",
     "output_type": "stream",
     "text": [
      "Size of the pruned 95 percent model before compression: 0.84 Mb\n",
      "Size of the pruned 95 percent model after compression: 0.75 Mb\n"
     ]
    }
   ],
   "source": [
    "import tempfile\n",
    "import zipfile\n",
    "import os\n",
    "\n",
    "quantized_keras_file = \"cac.h5\"\n",
    "\n",
    "_, zip3 = tempfile.mkstemp('.zip')\n",
    "with zipfile.ZipFile(zip3, 'w', compression=zipfile.ZIP_DEFLATED) as f:\n",
    "  f.write(quantized_keras_file)\n",
    "print(\"Size of the pruned 95 percent model before compression: %.2f Mb\" % \n",
    "      (os.path.getsize(quantized_keras_file) / float(2**20)))\n",
    "print(\"Size of the pruned 95 percent model after compression: %.2f Mb\" % \n",
    "      (os.path.getsize(zip3) / float(2**20)))\n",
    "\n",
    "os.remove(\"cac.5\")"
   ]
  },
  {
   "cell_type": "markdown",
   "metadata": {},
   "source": [
    "-------"
   ]
  },
  {
   "cell_type": "markdown",
   "metadata": {},
   "source": [
    "# Quantized CNN model"
   ]
  },
  {
   "cell_type": "markdown",
   "metadata": {},
   "source": [
    "## 1. Weight quantization"
   ]
  },
  {
   "cell_type": "code",
   "execution_count": 177,
   "metadata": {},
   "outputs": [],
   "source": [
    "from hls4ml.model.profiling import numerical\n",
    "from hls4ml.converters import keras_to_hls\n",
    "import matplotlib.pyplot as plt\n",
    "import yaml\n",
    "import hls4ml"
   ]
  },
  {
   "cell_type": "code",
   "execution_count": 178,
   "metadata": {},
   "outputs": [],
   "source": [
    "from tensorflow import keras"
   ]
  },
  {
   "cell_type": "code",
   "execution_count": 179,
   "metadata": {},
   "outputs": [],
   "source": [
    "# Load the model\n",
    "with open('./CNN/model/Conv1D-0.9.json', 'r') as f:\n",
    "    model = tf.keras.models.model_from_json(f.read())\n",
    "#load weights into new model\n",
    "model.load_weights(\"./CNN/model/Conv1D-0.85v1.h5\",\"r\")\n",
    "model.compile(loss='categorical_crossentropy', optimizer='adam')\n",
    "#model.summary()"
   ]
  },
  {
   "cell_type": "code",
   "execution_count": 154,
   "metadata": {},
   "outputs": [],
   "source": [
    "#model.save(\"Conv1d-85.h5\")"
   ]
  },
  {
   "cell_type": "code",
   "execution_count": 263,
   "metadata": {
    "scrolled": true
   },
   "outputs": [],
   "source": [
    "model = keras.models.load_model(\"Conv1d-85.h5\", compile=False, custom_objects={\"GlorotUniform\": tf.keras.initializers.glorot_uniform})\n",
    "model.compile(loss='categorical_crossentropy', optimizer='adam')"
   ]
  },
  {
   "cell_type": "code",
   "execution_count": 267,
   "metadata": {
    "scrolled": true
   },
   "outputs": [],
   "source": [
    "# serialize model to JSON\n",
    "model_json = model.to_json()\n",
    "with open(\"Conv1.json\", \"w\") as json_file:\n",
    "    json_file.write(model_json)\n",
    "\n",
    "model.save_weights(\"Conv1.h5\")"
   ]
  },
  {
   "cell_type": "code",
   "execution_count": 252,
   "metadata": {},
   "outputs": [
    {
     "name": "stderr",
     "output_type": "stream",
     "text": [
      "/Users/duc_hoang/anaconda3/lib/python3.7/site-packages/ipykernel_launcher.py:2: YAMLLoadWarning: calling yaml.load() without Loader=... is deprecated, as the default Loader is unsafe. Please read https://msg.pyyaml.org/load for full details.\n",
      "  \n"
     ]
    }
   ],
   "source": [
    "with open(\"keras-config-2.yml\", 'r') as ymlfile:\n",
    "    config = yaml.load(ymlfile)"
   ]
  },
  {
   "cell_type": "code",
   "execution_count": 253,
   "metadata": {
    "collapsed": true
   },
   "outputs": [
    {
     "name": "stdout",
     "output_type": "stream",
     "text": [
      "Interpreting Sequential\n",
      "Input shape: [128, 2]\n",
      "Topology:\n",
      "Layer name: conv1, layer type: Conv1D, current shape: [None, 126, 128]\n",
      "Layer name: conv2, layer type: Conv1D, current shape: [None, 124, 128]\n",
      "Layer name: max_pooling1d, layer type: MaxPooling1D, current shape: [None, 62, 128]\n",
      "Layer name: conv3, layer type: Conv1D, current shape: [None, 60, 64]\n",
      "Layer name: conv4, layer type: Conv1D, current shape: [None, 58, 64]\n",
      "Layer name: conv5, layer type: Conv1D, current shape: [None, 56, 32]\n",
      "Layer name: conv6, layer type: Conv1D, current shape: [None, 54, 32]\n",
      "Layer name: max_pooling1d_1, layer type: MaxPooling1D, current shape: [None, 27, 32]\n",
      "Layer name: dense1, layer type: Dense, current shape: [None, 128]\n",
      "Layer name: dense2, layer type: Dense, current shape: [None, 11]\n",
      "Layer name: activation, layer type: Activation, current shape: [None, 11]\n",
      "Creating HLS model\n"
     ]
    }
   ],
   "source": [
    "hls_model = keras_to_hls(config)"
   ]
  },
  {
   "cell_type": "code",
   "execution_count": 254,
   "metadata": {
    "collapsed": true
   },
   "outputs": [
    {
     "name": "stdout",
     "output_type": "stream",
     "text": [
      "Profiling weights\n",
      "Profiling activations\n",
      "   conv1\n",
      "   conv2\n",
      "   max_pooling1d\n",
      "   conv3\n",
      "   conv4\n",
      "   dropout\n",
      "   conv5\n",
      "   conv6\n",
      "   dropout_1\n",
      "   max_pooling1d_1\n",
      "   flatten\n",
      "   dense1\n",
      "   dense2\n",
      "   activation\n"
     ]
    },
    {
     "data": {
      "image/png": "[encoded data removed]",
      "text/plain": [
       "<Figure size 432x288 with 1 Axes>"
      ]
     },
     "metadata": {
      "needs_background": "light"
     },
     "output_type": "display_data"
    },
    {
     "data": {
      "image/png": "[encoded data removed]",
      "text/plain": [
       "<Figure size 432x288 with 1 Axes>"
      ]
     },
     "metadata": {
      "needs_background": "light"
     },
     "output_type": "display_data"
    }
   ],
   "source": [
    "ap, wp = numerical(keras_model = model, hlsmodel=hls_model, X=X_sim)\n",
    "plt.show()"
   ]
  },
  {
   "cell_type": "code",
   "execution_count": 262,
   "metadata": {},
   "outputs": [],
   "source": [
    "wp.savefig(\"weights.pdf\")"
   ]
  },
  {
   "cell_type": "markdown",
   "metadata": {},
   "source": [
    "-----"
   ]
  },
  {
   "cell_type": "markdown",
   "metadata": {},
   "source": [
    "## Compare AUC"
   ]
  },
  {
   "cell_type": "code",
   "execution_count": 13,
   "metadata": {},
   "outputs": [],
   "source": [
    "from hls4ml.model.profiling import numerical\n",
    "from hls4ml.converters import keras_to_hls\n",
    "import matplotlib.pyplot as plt\n",
    "import yaml\n",
    "import hls4ml"
   ]
  },
  {
   "cell_type": "markdown",
   "metadata": {},
   "source": [
    "------"
   ]
  },
  {
   "cell_type": "code",
   "execution_count": 2,
   "metadata": {},
   "outputs": [],
   "source": [
    "# Load full the model\n",
    "with open('./CNN/model/v3-Conv1D-full.json', 'r') as f:\n",
    "    full_model = tf.keras.models.model_from_json(f.read())\n",
    "#load weights into new model\n",
    "full_model.load_weights(\"./CNN/model/v3-Conv1D-full.h5\",\"r\")\n",
    "full_model.compile(loss='categorical_crossentropy', optimizer='adam')\n",
    "\n",
    "# Load the pruned model\n",
    "with open('./CNN/model/Conv1D-0.9.json', 'r') as f:\n",
    "    pruned_model = tf.keras.models.model_from_json(f.read())\n",
    "#load weights into new model\n",
    "pruned_model.load_weights(\"./CNN/model/Conv1D-0.85v1.h5\",\"r\")\n",
    "pruned_model.compile(loss='categorical_crossentropy', optimizer='adam')\n",
    "\n",
    "#Create the quantized model\n",
    "with open(\"conv-model/config-conv.yml\", 'r') as ymlfile:\n",
    "    config = yaml.load(ymlfile)\n",
    "\n",
    "#Create hls model using conversion tool\n",
    "from hls4ml.converters import keras_to_hls\n",
    "hls_model = keras_to_hls(config)\n",
    "\n",
    "hls_model.compile()"
   ]
  },
  {
   "cell_type": "code",
   "execution_count": 173,
   "metadata": {},
   "outputs": [],
   "source": [
    "#Make predictions\n",
    "Y_pred_full = full_model.predict(X_test)\n",
    "Y_pred_pruned = pruned_model.predict(X_test)\n",
    "Y_pred_quant = hls_model.predict(X_test)"
   ]
  },
  {
   "cell_type": "code",
   "execution_count": 200,
   "metadata": {},
   "outputs": [
    {
     "name": "stdout",
     "output_type": "stream",
     "text": [
      "Output 8PSK: Keras auc = 87.6\n",
      "Output 8PSK: Pruned Keras auc = 87.2\n",
      "Output 8PSK: Ratio Pruned/Full = 1.00\n",
      "Output AM-DSB: Keras auc = 92.8\n",
      "Output AM-DSB: Pruned Keras auc = 92.3\n",
      "Output AM-DSB: Ratio Pruned/Full = 0.99\n",
      "Output AM-SSB: Keras auc = 87.9\n",
      "Output AM-SSB: Pruned Keras auc = 87.6\n",
      "Output AM-SSB: Ratio Pruned/Full = 1.00\n",
      "Output BPSK: Keras auc = 91.9\n",
      "Output BPSK: Pruned Keras auc = 91.8\n",
      "Output BPSK: Ratio Pruned/Full = 1.00\n",
      "Output CPFSK: Keras auc = 92.2\n",
      "Output CPFSK: Pruned Keras auc = 92.1\n",
      "Output CPFSK: Ratio Pruned/Full = 1.00\n",
      "Output GFSK: Keras auc = 93.5\n",
      "Output GFSK: Pruned Keras auc = 93.5\n",
      "Output GFSK: Ratio Pruned/Full = 1.00\n",
      "Output PAM4: Keras auc = 93.5\n",
      "Output PAM4: Pruned Keras auc = 92.9\n",
      "Output PAM4: Ratio Pruned/Full = 0.99\n",
      "Output QAM16: Keras auc = 87.7\n",
      "Output QAM16: Pruned Keras auc = 87.1\n",
      "Output QAM16: Ratio Pruned/Full = 0.99\n",
      "Output QAM64: Keras auc = 91.6\n",
      "Output QAM64: Pruned Keras auc = 91.0\n",
      "Output QAM64: Ratio Pruned/Full = 0.99\n",
      "Output QPSK: Keras auc = 87.1\n",
      "Output QPSK: Pruned Keras auc = 86.7\n",
      "Output QPSK: Ratio Pruned/Full = 1.00\n",
      "Output WBFM: Keras auc = 91.6\n",
      "Output WBFM: Pruned Keras auc = 91.2\n",
      "Output WBFM: Ratio Pruned/Full = 1.00\n",
      "Average ratio pruned/full: 1.00\n"
     ]
    }
   ],
   "source": [
    "n_classes = truth_df.shape[1]\n",
    "\n",
    "# Compute ROC curve and ROC area for each class\n",
    "fpr_full = dict()\n",
    "tpr_full = dict()\n",
    "roc_auc_full = dict()\n",
    "\n",
    "fpr_pruned = dict()\n",
    "tpr_pruned = dict()\n",
    "roc_auc_pruned = dict()\n",
    "\n",
    "fpr_quant = dict()\n",
    "tpr_quant = dict()\n",
    "roc_quant = dict()\n",
    "\n",
    "sum_pruned_ratio = 0\n",
    "sum_quant_ratio = 0\n",
    "\n",
    "for i in range(n_classes):\n",
    "    \n",
    "    #AUC from the full model\n",
    "    fpr_full[i], tpr_full[i], _ = roc_curve(Y_test[:, i], Y_pred_full[:, i])\n",
    "    roc_auc_full[i] = auc(fpr_full[i], tpr_full[i])\n",
    "    print('Output {}: Keras auc = {:.1f}'.format(classes[i], roc_auc_full[i] * 100))\n",
    "    \n",
    "    #AUC of pruned model\n",
    "    fpr_pruned[i], tpr_pruned[i], _ = roc_curve(Y_test[:, i], Y_pred_pruned[:, i])\n",
    "    roc_auc_pruned[i] = auc(fpr_pruned[i], tpr_pruned[i])\n",
    "    print('Output {}: Pruned Keras auc = {:.1f}'.format(classes[i], roc_auc_pruned[i] * 100))\n",
    "    print('Output {}: Ratio Pruned/Full = {:.2f}'. format(classes[i], roc_auc_pruned[i]/roc_auc_full[i])) #Calculate the ratio\n",
    "    sum_pruned_ratio += roc_auc_pruned[i]/roc_auc_full[i]\n",
    "    \n",
    "    #AUC of quantized model\n",
    "    fpr_quant[i], tpr_quant[i], _ = roc_curve(Y_test[:, i], Y_pred_quant[:, i])\n",
    "    roc_auc_quant[i] = auc(fpr_quant[i], tpr_quant[i])\n",
    "    print('Output {}: Keras auc = {:.1f}'.format(classes[i], roc_auc_quant[i] * 100))\n",
    "    print('Output {}: Ratio Quantized/Full = {:.2f}'. format(classes[i], roc_auc_quant[i]/roc_auc_full[i])) #Calculate the rat\n",
    "    sum_quant_ratio += roc_auc_quant[i]/roc_auc_full[i]\n",
    "\n",
    "print(\"Average ratio pruned/full: {:.2f}\".format(sum_pruned_ratio/n_classes))\n",
    "print(\"Average ratio quant/full: {:.2f}\".format(sum_quant_ratio/n_classes))"
   ]
  }
 ],
 "metadata": {
  "kernelspec": {
   "display_name": "Python 3",
   "language": "python",
   "name": "python3"
  },
  "language_info": {
   "codemirror_mode": {
    "name": "ipython",
    "version": 3
   },
   "file_extension": ".py",
   "mimetype": "text/x-python",
   "name": "python",
   "nbconvert_exporter": "python",
   "pygments_lexer": "ipython3",
   "version": "3.7.3"
  }
 },
 "nbformat": 4,
 "nbformat_minor": 2
}
